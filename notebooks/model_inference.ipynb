{
  "nbformat": 4,
  "nbformat_minor": 0,
  "metadata": {
    "colab": {
      "provenance": []
    },
    "kernelspec": {
      "name": "python3",
      "display_name": "Python 3"
    },
    "language_info": {
      "name": "python"
    }
  },
  "cells": [
    {
      "cell_type": "code",
      "source": [
        "!pip install dagshub mlflow joblib prophet -q\n",
        "print(\"Required packages installed!\")"
      ],
      "metadata": {
        "colab": {
          "base_uri": "https://localhost:8080/"
        },
        "id": "R-YeOFaoo2Zv",
        "outputId": "6a6c00cd-c67b-40c0-ca67-6079d26ef079"
      },
      "execution_count": 1,
      "outputs": [
        {
          "output_type": "stream",
          "name": "stdout",
          "text": [
            "\u001b[2K   \u001b[90m━━━━━━━━━━━━━━━━━━━━━━━━━━━━━━━━━━━━━━━━\u001b[0m \u001b[32m261.2/261.2 kB\u001b[0m \u001b[31m10.9 MB/s\u001b[0m eta \u001b[36m0:00:00\u001b[0m\n",
            "\u001b[2K   \u001b[90m━━━━━━━━━━━━━━━━━━━━━━━━━━━━━━━━━━━━━━━━\u001b[0m \u001b[32m24.7/24.7 MB\u001b[0m \u001b[31m26.2 MB/s\u001b[0m eta \u001b[36m0:00:00\u001b[0m\n",
            "\u001b[2K   \u001b[90m━━━━━━━━━━━━━━━━━━━━━━━━━━━━━━━━━━━━━━━━\u001b[0m \u001b[32m1.9/1.9 MB\u001b[0m \u001b[31m35.2 MB/s\u001b[0m eta \u001b[36m0:00:00\u001b[0m\n",
            "\u001b[2K   \u001b[90m━━━━━━━━━━━━━━━━━━━━━━━━━━━━━━━━━━━━━━━━\u001b[0m \u001b[32m247.0/247.0 kB\u001b[0m \u001b[31m16.3 MB/s\u001b[0m eta \u001b[36m0:00:00\u001b[0m\n",
            "\u001b[2K   \u001b[90m━━━━━━━━━━━━━━━━━━━━━━━━━━━━━━━━━━━━━━━━\u001b[0m \u001b[32m147.8/147.8 kB\u001b[0m \u001b[31m6.5 MB/s\u001b[0m eta \u001b[36m0:00:00\u001b[0m\n",
            "\u001b[2K   \u001b[90m━━━━━━━━━━━━━━━━━━━━━━━━━━━━━━━━━━━━━━━━\u001b[0m \u001b[32m114.9/114.9 kB\u001b[0m \u001b[31m9.2 MB/s\u001b[0m eta \u001b[36m0:00:00\u001b[0m\n",
            "\u001b[2K   \u001b[90m━━━━━━━━━━━━━━━━━━━━━━━━━━━━━━━━━━━━━━━━\u001b[0m \u001b[32m85.0/85.0 kB\u001b[0m \u001b[31m3.6 MB/s\u001b[0m eta \u001b[36m0:00:00\u001b[0m\n",
            "\u001b[2K   \u001b[90m━━━━━━━━━━━━━━━━━━━━━━━━━━━━━━━━━━━━━━━━\u001b[0m \u001b[32m139.9/139.9 kB\u001b[0m \u001b[31m7.5 MB/s\u001b[0m eta \u001b[36m0:00:00\u001b[0m\n",
            "\u001b[2K   \u001b[90m━━━━━━━━━━━━━━━━━━━━━━━━━━━━━━━━━━━━━━━━\u001b[0m \u001b[32m13.9/13.9 MB\u001b[0m \u001b[31m30.0 MB/s\u001b[0m eta \u001b[36m0:00:00\u001b[0m\n",
            "\u001b[2K   \u001b[90m━━━━━━━━━━━━━━━━━━━━━━━━━━━━━━━━━━━━━━━━\u001b[0m \u001b[32m680.6/680.6 kB\u001b[0m \u001b[31m17.0 MB/s\u001b[0m eta \u001b[36m0:00:00\u001b[0m\n",
            "\u001b[2K   \u001b[90m━━━━━━━━━━━━━━━━━━━━━━━━━━━━━━━━━━━━━━━━\u001b[0m \u001b[32m203.4/203.4 kB\u001b[0m \u001b[31m12.1 MB/s\u001b[0m eta \u001b[36m0:00:00\u001b[0m\n",
            "\u001b[2K   \u001b[90m━━━━━━━━━━━━━━━━━━━━━━━━━━━━━━━━━━━━━━━━\u001b[0m \u001b[32m50.9/50.9 kB\u001b[0m \u001b[31m2.9 MB/s\u001b[0m eta \u001b[36m0:00:00\u001b[0m\n",
            "\u001b[2K   \u001b[90m━━━━━━━━━━━━━━━━━━━━━━━━━━━━━━━━━━━━━━━━\u001b[0m \u001b[32m65.6/65.6 kB\u001b[0m \u001b[31m3.4 MB/s\u001b[0m eta \u001b[36m0:00:00\u001b[0m\n",
            "\u001b[2K   \u001b[90m━━━━━━━━━━━━━━━━━━━━━━━━━━━━━━━━━━━━━━━━\u001b[0m \u001b[32m120.0/120.0 kB\u001b[0m \u001b[31m6.6 MB/s\u001b[0m eta \u001b[36m0:00:00\u001b[0m\n",
            "\u001b[2K   \u001b[90m━━━━━━━━━━━━━━━━━━━━━━━━━━━━━━━━━━━━━━━━\u001b[0m \u001b[32m201.6/201.6 kB\u001b[0m \u001b[31m9.0 MB/s\u001b[0m eta \u001b[36m0:00:00\u001b[0m\n",
            "\u001b[2K   \u001b[90m━━━━━━━━━━━━━━━━━━━━━━━━━━━━━━━━━━━━━━━━\u001b[0m \u001b[32m85.3/85.3 kB\u001b[0m \u001b[31m6.4 MB/s\u001b[0m eta \u001b[36m0:00:00\u001b[0m\n",
            "\u001b[2K   \u001b[90m━━━━━━━━━━━━━━━━━━━━━━━━━━━━━━━━━━━━━━━━\u001b[0m \u001b[32m74.3/74.3 kB\u001b[0m \u001b[31m2.6 MB/s\u001b[0m eta \u001b[36m0:00:00\u001b[0m\n",
            "\u001b[?25h✅ Required packages installed!\n"
          ]
        }
      ]
    },
    {
      "cell_type": "code",
      "source": [
        "from google.colab import drive\n",
        "drive.mount('/content/drive')\n",
        "\n",
        "FOLDERNAME = '/content/drive/MyDrive/ML_final_project'\n",
        "assert FOLDERNAME is not None, \"[!] Enter the foldername.\"\n",
        "DATAPATH = f'{FOLDERNAME}/data/'\n",
        "\n",
        "import pandas as pd\n",
        "import numpy as np\n",
        "import joblib\n",
        "import mlflow\n",
        "import mlflow.sklearn\n",
        "import dagshub\n",
        "from mlflow.tracking import MlflowClient\n",
        "import warnings\n",
        "import os\n",
        "from prophet import Prophet\n",
        "warnings.filterwarnings('ignore')\n",
        "\n",
        "print(\"setup completed!\")"
      ],
      "metadata": {
        "colab": {
          "base_uri": "https://localhost:8080/"
        },
        "id": "kFmqpzinhhbe",
        "outputId": "6b57baf1-13b9-433e-efd3-b6a26d2d06cb"
      },
      "execution_count": 2,
      "outputs": [
        {
          "output_type": "stream",
          "name": "stdout",
          "text": [
            "Mounted at /content/drive\n",
            "✅ Setup completed!\n"
          ]
        }
      ]
    },
    {
      "cell_type": "code",
      "source": [
        "print(\"Loading REAL working Prophet pipeline...\")\n",
        "class RealProphetPipeline:\n",
        "    def __init__(self, prophet_params):\n",
        "        self.prophet_params = prophet_params\n",
        "        self.models = {}\n",
        "        self.training_stats = {\n",
        "            'models_trained': 0,\n",
        "            'models_failed': 0,\n",
        "            'total_training_time': 0,\n",
        "            'failed_combinations': []\n",
        "        }\n",
        "\n",
        "    def fit(self, train_data, stores_to_train, depts_to_train):\n",
        "        # ar vidzaxebt\n",
        "        pass\n",
        "\n",
        "    def predict(self, test_data):\n",
        "        print(f\"Generating predictions with {len(self.models)} Prophet models...\")\n",
        "\n",
        "        predictions = []\n",
        "        prediction_stats = {'used_model': 0, 'used_fallback': 0}\n",
        "\n",
        "        for idx, row in test_data.iterrows():\n",
        "            store, dept, date = row['Store'], row['Dept'], row['Date']\n",
        "\n",
        "            if (store, dept) in self.models:\n",
        "                model_info = self.models[(store, dept)]\n",
        "                model = model_info['model']\n",
        "                future_df = pd.DataFrame({'ds': [pd.to_datetime(date)]})\n",
        "\n",
        "                try:\n",
        "                    forecast = model.predict(future_df)\n",
        "                    pred = forecast['yhat'].iloc[0]\n",
        "                    prediction_stats['used_model'] += 1\n",
        "                except Exception as e:\n",
        "                    pred = self._fallback_prediction(store, dept, date, test_data)\n",
        "                    prediction_stats['used_fallback'] += 1\n",
        "            else:\n",
        "                pred = self._fallback_prediction(store, dept, date, test_data)\n",
        "                prediction_stats['used_fallback'] += 1\n",
        "\n",
        "            predictions.append(max(0, pred))\n",
        "\n",
        "            if (idx + 1) % 10000 == 0:\n",
        "                print(f\"   Predicted {idx + 1}/{len(test_data)} samples...\")\n",
        "\n",
        "        print(f\"Predictions complete!\")\n",
        "        print(f\"Used trained models: {prediction_stats['used_model']}\")\n",
        "        print(f\"Used fallback: {prediction_stats['used_fallback']}\")\n",
        "\n",
        "        return np.array(predictions)\n",
        "\n",
        "    def _fallback_prediction(self, store, dept, date, test_data):\n",
        "        return 15000.0\n",
        "\n",
        "print(\"RealProphetPipeline class defined\")\n",
        "\n",
        "best_model = None\n",
        "model_source = None\n",
        "\n",
        "try:\n",
        "    real_pipeline_path = f\"{FOLDERNAME}/real_prophet_pipeline.joblib\"\n",
        "    best_model = joblib.load(real_pipeline_path)\n",
        "\n",
        "    print(f\"Loaded REAL Prophet pipeline: {real_pipeline_path}\")\n",
        "    print(f\"Pipeline contains {best_model.training_stats['models_trained']} trained Prophet models\")\n",
        "    print(f\"Original Kaggle score: 2800 🏆\")\n",
        "\n",
        "    model_source = \"Real Prophet Pipeline (2,752 models)\"\n",
        "\n",
        "except Exception as e:\n",
        "    print(f\"Failed to load real pipeline: {e}\")\n",
        "\n",
        "    print(\"Using original Prophet predictions as fallback...\")\n",
        "\n",
        "    class OriginalProphetFallback:\n",
        "        def __init__(self):\n",
        "            self.training_stats = {'models_trained': 2752}\n",
        "\n",
        "        def predict(self, X):\n",
        "            original_path = f\"{FOLDERNAME}/prophet_real_submission.csv\"\n",
        "            if os.path.exists(original_path):\n",
        "                print(\"Loading original Prophet predictions (score 2800)\")\n",
        "                original_sub = pd.read_csv(original_path)\n",
        "                return original_sub['Weekly_Sales'].values\n",
        "            else:\n",
        "                print(\"Original submission not found, using fallback values\")\n",
        "                return np.full(len(X), 15000)\n",
        "\n",
        "    best_model = OriginalProphetFallback()\n",
        "    model_source = \"Original Prophet Predictions (2800 score)\"\n",
        "\n",
        "print(f\"Best model loaded: {model_source}\")\n"
      ],
      "metadata": {
        "colab": {
          "base_uri": "https://localhost:8080/"
        },
        "id": "2_y-QNpp4bkw",
        "outputId": "255ce22e-f0ba-4923-855b-5289bbe128d9"
      },
      "execution_count": 11,
      "outputs": [
        {
          "output_type": "stream",
          "name": "stdout",
          "text": [
            "Loading REAL working Prophet pipeline...\n",
            "RealProphetPipeline class defined\n",
            "Loaded REAL Prophet pipeline: /content/drive/MyDrive/ML_final_project/real_prophet_pipeline.joblib\n",
            "Pipeline contains 3167 trained Prophet models\n",
            "Original Kaggle score: 2800 🏆\n",
            "Best model loaded: Real Prophet Pipeline (2,752 models)\n"
          ]
        }
      ]
    },
    {
      "cell_type": "code",
      "source": [
        "print(\"Loading test data...\")\n",
        "test_df = pd.read_csv(DATAPATH + 'test.csv')\n",
        "print(f\"Test data loaded: {test_df.shape}\")"
      ],
      "metadata": {
        "colab": {
          "base_uri": "https://localhost:8080/"
        },
        "id": "ariQom6w4biJ",
        "outputId": "29fdb8f9-f1aa-4201-e0a6-029dc00a0fca"
      },
      "execution_count": 10,
      "outputs": [
        {
          "output_type": "stream",
          "name": "stdout",
          "text": [
            "Loading test data...\n",
            "Test data loaded: (115064, 4)\n"
          ]
        }
      ]
    },
    {
      "cell_type": "code",
      "source": [
        "try:\n",
        "    mlflow.end_run()\n",
        "    print(\"Ended active MLflow run\")\n",
        "except:\n",
        "    print(\"No active MLflow run to end\")"
      ],
      "metadata": {
        "colab": {
          "base_uri": "https://localhost:8080/"
        },
        "id": "rwB6PaSU41Ak",
        "outputId": "c2319dde-8f3b-40db-ed85-211c78b69a20"
      },
      "execution_count": 12,
      "outputs": [
        {
          "output_type": "stream",
          "name": "stdout",
          "text": [
            "Ended active MLflow run\n"
          ]
        }
      ]
    },
    {
      "cell_type": "code",
      "source": [
        "print(\"Generating predictions with best Prophet model...\")\n",
        "print(\"This may take several minutes...\")\n",
        "\n",
        "with mlflow.start_run(run_name=\"Best_Prophet_Model_Inference\") as run:\n",
        "\n",
        "    mlflow.log_param(\"best_model\", \"Prophet\")\n",
        "    mlflow.log_param(\"model_source\", model_source)\n",
        "    mlflow.log_param(\"test_samples\", len(test_df))\n",
        "    mlflow.log_param(\"inference_date\", pd.Timestamp.now().strftime(\"%Y-%m-%d %H:%M:%S\"))\n",
        "\n",
        "    test_input = test_df[['Store', 'Dept', 'Date']].copy()\n",
        "\n",
        "    if 'IsHoliday' in test_df.columns:\n",
        "        test_input['IsHoliday'] = test_df['IsHoliday']\n",
        "    else:\n",
        "        try:\n",
        "            features_df = pd.read_csv(DATAPATH + 'features.csv')\n",
        "            test_input = test_input.merge(features_df[['Store', 'Date', 'IsHoliday']],\n",
        "                                        on=['Store', 'Date'], how='left')\n",
        "            test_input['IsHoliday'] = test_input['IsHoliday'].fillna(0)\n",
        "        except:\n",
        "            test_input['IsHoliday'] = 0\n",
        "\n",
        "    print(f\"Input shape: {test_input.shape}\")\n",
        "    print(f\"Input columns: {list(test_input.columns)}\")\n",
        "\n",
        "    try:\n",
        "        predictions = best_model.predict(test_input)\n",
        "        print(f\"Predictions generated successfully!\")\n",
        "        print(f\"Predictions shape: {predictions.shape}\")\n",
        "        print(f\"Prediction range: ${predictions.min():.2f} - ${predictions.max():.2f}\")\n",
        "        print(f\"Mean prediction: ${predictions.mean():.2f}\")\n",
        "\n",
        "        mlflow.log_metric(\"predictions_count\", len(predictions))\n",
        "        mlflow.log_metric(\"predictions_mean\", float(predictions.mean()))\n",
        "        mlflow.log_metric(\"predictions_std\", float(predictions.std()))\n",
        "        mlflow.log_metric(\"predictions_min\", float(predictions.min()))\n",
        "        mlflow.log_metric(\"predictions_max\", float(predictions.max()))\n",
        "\n",
        "    except Exception as e:\n",
        "        print(f\"Prediction failed: {e}\")\n",
        "        raise"
      ],
      "metadata": {
        "colab": {
          "base_uri": "https://localhost:8080/"
        },
        "id": "oTu3gTh-4bfn",
        "outputId": "5d4aa92d-04e6-4a6e-9adc-c14e9ee582db"
      },
      "execution_count": 14,
      "outputs": [
        {
          "output_type": "stream",
          "name": "stdout",
          "text": [
            "Generating predictions with best Prophet model...\n",
            "This may take several minutes...\n",
            "Input shape: (115064, 4)\n",
            "Input columns: ['Store', 'Dept', 'Date', 'IsHoliday']\n",
            "Predicted 10000/115064 samples...\n",
            "Predicted 20000/115064 samples...\n",
            "Predicted 30000/115064 samples...\n",
            "Predicted 40000/115064 samples...\n",
            "Predicted 50000/115064 samples...\n",
            "Predicted 60000/115064 samples...\n",
            "Predicted 70000/115064 samples...\n",
            "Predicted 80000/115064 samples...\n",
            "Predicted 90000/115064 samples...\n",
            "Predicted 100000/115064 samples...\n",
            "Predicted 110000/115064 samples...\n",
            "Predictions generated successfully!\n",
            "Predictions shape: (115064,)\n",
            "Prediction range: $0.00 - $436475.49\n",
            "Mean prediction: $16739.61\n"
          ]
        }
      ]
    },
    {
      "cell_type": "code",
      "source": [
        "print(\"Model inference completed!\")"
      ],
      "metadata": {
        "colab": {
          "base_uri": "https://localhost:8080/"
        },
        "id": "OjPpXJy4Z0yf",
        "outputId": "ab3c0bf8-4a55-4b90-e0b6-a68ceba85e45"
      },
      "execution_count": 13,
      "outputs": [
        {
          "output_type": "stream",
          "name": "stdout",
          "text": [
            "Model inference completed!\n"
          ]
        }
      ]
    },
    {
      "cell_type": "code",
      "source": [
        "print(\"Creating Kaggle submission file...\")\n",
        "\n",
        "submission_df = test_df[['Store', 'Dept', 'Date']].copy()\n",
        "submission_df['Date'] = pd.to_datetime(submission_df['Date'])\n",
        "\n",
        "submission_df['Weekly_Sales'] = predictions\n",
        "\n",
        "submission_df['Id'] = (\n",
        "    submission_df['Store'].astype(str) + '_' +\n",
        "    submission_df['Dept'].astype(str) + '_' +\n",
        "    submission_df['Date'].dt.strftime('%Y-%m-%d')\n",
        ")\n",
        "\n",
        "final_submission = submission_df[['Id', 'Weekly_Sales']].copy()\n",
        "\n",
        "final_submission['Weekly_Sales'] = final_submission['Weekly_Sales'].clip(lower=0)\n",
        "\n",
        "submission_filename = 'best_model_submission.csv'\n",
        "submission_path = f\"{FOLDERNAME}/{submission_filename}\"\n",
        "final_submission.to_csv(submission_path, index=False)\n",
        "\n",
        "final_submission.to_csv(submission_filename, index=False)\n",
        "\n",
        "print(f\"Submission file created!\")\n",
        "print(f\"Saved to: {submission_path}\")\n",
        "print(f\"Ready for Kaggle upload!\")\n"
      ],
      "metadata": {
        "id": "Ow2kGuR_4bdZ",
        "colab": {
          "base_uri": "https://localhost:8080/"
        },
        "outputId": "f76e9fe1-81c5-4383-b875-021b72ce7d9b"
      },
      "execution_count": 15,
      "outputs": [
        {
          "output_type": "stream",
          "name": "stdout",
          "text": [
            "Creating Kaggle submission file...\n",
            "Submission file created!\n",
            "Saved to: /content/drive/MyDrive/ML_final_project/best_model_submission.csv\n",
            "Ready for Kaggle upload!\n"
          ]
        }
      ]
    },
    {
      "cell_type": "markdown",
      "source": [
        "ატვირთვის შემდეგ აღმოჩნდა რომ საბოლოო score არის **2878**![Screenshot 2025-08-03 141245.png](data:image/png;base64,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)"
      ],
      "metadata": {
        "id": "TZZ4HeZgauJT"
      }
    }
  ]
}